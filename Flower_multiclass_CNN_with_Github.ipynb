{
  "cells": [
    {
      "cell_type": "markdown",
      "metadata": {
        "id": "view-in-github",
        "colab_type": "text"
      },
      "source": [
        "<a href=\"https://colab.research.google.com/github/NeenuFrancis/flowers_multiclass_CNN/blob/main/Flower_multiclass_CNN_with_Github.ipynb\" target=\"_parent\"><img src=\"https://colab.research.google.com/assets/colab-badge.svg\" alt=\"Open In Colab\"/></a>"
      ]
    },
    {
      "cell_type": "markdown",
      "metadata": {
        "id": "3DR-eO17geWu"
      },
      "source": [
        "# Convolutional Neural Network"
      ]
    },
    {
      "cell_type": "code",
      "execution_count": 1,
      "metadata": {
        "colab": {
          "base_uri": "https://localhost:8080/"
        },
        "id": "r6U6sqKu7Hfe",
        "outputId": "f17a74a7-a6af-4a3e-b81f-9c40fb76cda4"
      },
      "outputs": [
        {
          "output_type": "stream",
          "name": "stdout",
          "text": [
            "Cloning into 'flowers_multiclass_CNN'...\n",
            "remote: Enumerating objects: 1148, done.\u001b[K\n",
            "remote: Counting objects: 100% (477/477), done.\u001b[K\n",
            "remote: Compressing objects: 100% (459/459), done.\u001b[K\n",
            "remote: Total 1148 (delta 32), reused 429 (delta 16), pack-reused 671\u001b[K\n",
            "Receiving objects: 100% (1148/1148), 55.04 MiB | 27.33 MiB/s, done.\n",
            "Resolving deltas: 100% (57/57), done.\n"
          ]
        }
      ],
      "source": [
        "!git clone \"https://github.com/NeenuFrancis/flowers_multiclass_CNN.git\""
      ]
    },
    {
      "cell_type": "markdown",
      "metadata": {
        "id": "EMefrVPCg-60"
      },
      "source": [
        "### Importing the libraries"
      ]
    },
    {
      "cell_type": "code",
      "execution_count": 2,
      "metadata": {
        "id": "sCV30xyVhFbE"
      },
      "outputs": [],
      "source": [
        "import tensorflow as tf\n",
        "from keras.preprocessing.image import ImageDataGenerator\n"
      ]
    },
    {
      "cell_type": "code",
      "execution_count": 3,
      "metadata": {
        "colab": {
          "base_uri": "https://localhost:8080/",
          "height": 35
        },
        "id": "FIleuCAjoFD8",
        "outputId": "8fb5fb3f-20c2-48ba-9ad9-6f5a5f4051f9"
      },
      "outputs": [
        {
          "output_type": "execute_result",
          "data": {
            "text/plain": [
              "'2.14.0'"
            ],
            "application/vnd.google.colaboratory.intrinsic+json": {
              "type": "string"
            }
          },
          "metadata": {},
          "execution_count": 3
        }
      ],
      "source": [
        "tf.__version__"
      ]
    },
    {
      "cell_type": "markdown",
      "metadata": {
        "id": "Go-LCQvzt56X"
      },
      "source": [
        "# **Part 1 - Data Preprocessing**\n",
        "\n"
      ]
    },
    {
      "cell_type": "markdown",
      "metadata": {
        "id": "_nN0vlOTvHLn"
      },
      "source": [
        "### Preprocessing the Training set"
      ]
    },
    {
      "cell_type": "code",
      "execution_count": 4,
      "metadata": {
        "id": "YVHOAkIBQwT2"
      },
      "outputs": [],
      "source": [
        "import pandas as pd"
      ]
    },
    {
      "cell_type": "code",
      "execution_count": 5,
      "metadata": {
        "colab": {
          "base_uri": "https://localhost:8080/"
        },
        "id": "5K8vBUFSt-sG",
        "outputId": "7e1ce82f-20f6-4e5c-ea2e-8a6c037057bb"
      },
      "outputs": [
        {
          "output_type": "stream",
          "name": "stdout",
          "text": [
            "Found 500 images belonging to 5 classes.\n"
          ]
        }
      ],
      "source": [
        "from keras.preprocessing import image\n",
        "#Creating an object of ImageDataGenerator\n",
        "train_datagen = ImageDataGenerator(rescale = 1./255,\n",
        "                                   shear_range = 0.2,\n",
        "                                   zoom_range = 0.2,\n",
        "                                   horizontal_flip = True,\n",
        "                                   validation_split=0.1)\n",
        "\n",
        "#Generating batches of Augmented data\n",
        "training_set = train_datagen.flow_from_directory('/content/flowers_multiclass_CNN/data/train',\n",
        "                                                 target_size = (64, 64),\n",
        "                                                 batch_size = 32,\n",
        "                                                 class_mode = 'categorical'\n",
        "                                                 )"
      ]
    },
    {
      "cell_type": "markdown",
      "metadata": {
        "id": "-ikhQLjsvT8u"
      },
      "source": [
        "### Preprocessing the Test set"
      ]
    },
    {
      "cell_type": "code",
      "execution_count": 6,
      "metadata": {
        "colab": {
          "base_uri": "https://localhost:8080/"
        },
        "id": "2c_CryLkvS1H",
        "outputId": "075021b3-8717-4960-e4c5-6d3fa9dded8f"
      },
      "outputs": [
        {
          "output_type": "stream",
          "name": "stdout",
          "text": [
            "Found 419 images belonging to 5 classes.\n"
          ]
        }
      ],
      "source": [
        "test_datagen = ImageDataGenerator(rescale = 1./255,validation_split=0.1)\n",
        "\n",
        "test_set = test_datagen.flow_from_directory('/content/flowers_multiclass_CNN/data/test',\n",
        "                                             target_size = (64, 64),\n",
        "                                                 batch_size = 32,\n",
        "                                                 class_mode = 'categorical'\n",
        "                                            )\n"
      ]
    },
    {
      "cell_type": "markdown",
      "metadata": {
        "id": "K56vilF6xdcn"
      },
      "source": [
        "# **Part 2 - Building the CNN**\n",
        "\n",
        "\n",
        "\n"
      ]
    },
    {
      "cell_type": "markdown",
      "metadata": {
        "id": "lxc2uA8Gx1Oh"
      },
      "source": [
        "### Initialising the CNN"
      ]
    },
    {
      "cell_type": "code",
      "execution_count": 7,
      "metadata": {
        "id": "7wuj966mx2sB"
      },
      "outputs": [],
      "source": [
        "cnn = tf.keras.models.Sequential()"
      ]
    },
    {
      "cell_type": "markdown",
      "metadata": {
        "id": "kqoFz1J6yDB1"
      },
      "source": [
        "### Step 1 - Convolution"
      ]
    },
    {
      "cell_type": "code",
      "execution_count": 8,
      "metadata": {
        "id": "YW2xKjlSyD29"
      },
      "outputs": [],
      "source": [
        "cnn.add(tf.keras.layers.Conv2D(filters=32, kernel_size=3, activation='relu',\n",
        "                               input_shape=[64, 64, 3]))\n"
      ]
    },
    {
      "cell_type": "markdown",
      "metadata": {
        "id": "aQqI04ekyI99"
      },
      "source": [
        "### Step 2 - Pooling"
      ]
    },
    {
      "cell_type": "code",
      "execution_count": 9,
      "metadata": {
        "id": "jt4KfyrvyKOW"
      },
      "outputs": [],
      "source": [
        "cnn.add(tf.keras.layers.MaxPool2D(pool_size=2, strides=2))"
      ]
    },
    {
      "cell_type": "markdown",
      "metadata": {
        "id": "G1AJMfiayQkW"
      },
      "source": [
        "### Adding a second convolutional layer"
      ]
    },
    {
      "cell_type": "code",
      "execution_count": 10,
      "metadata": {
        "id": "NWwL4UtvySl-"
      },
      "outputs": [],
      "source": [
        "cnn.add(tf.keras.layers.Conv2D(filters=32, kernel_size=3, activation='relu'))\n",
        "cnn.add(tf.keras.layers.MaxPool2D(pool_size=2, strides=2))"
      ]
    },
    {
      "cell_type": "markdown",
      "metadata": {
        "id": "T8LUay2eyX2V"
      },
      "source": [
        "### Step 3 - Flattening"
      ]
    },
    {
      "cell_type": "code",
      "execution_count": 11,
      "metadata": {
        "id": "Rt6DoMidyYtM"
      },
      "outputs": [],
      "source": [
        "cnn.add(tf.keras.layers.Flatten())"
      ]
    },
    {
      "cell_type": "markdown",
      "metadata": {
        "id": "QV4ofYcYyezd"
      },
      "source": [
        "### Step 4 - Full Connection"
      ]
    },
    {
      "cell_type": "code",
      "execution_count": 12,
      "metadata": {
        "id": "bSTx2oViybKF"
      },
      "outputs": [],
      "source": [
        "cnn.add(tf.keras.layers.Dense(units=128, activation='relu'))"
      ]
    },
    {
      "cell_type": "markdown",
      "metadata": {
        "id": "1cRM8YV_ylsl"
      },
      "source": [
        "### Step 5 - Output Layer"
      ]
    },
    {
      "cell_type": "code",
      "execution_count": 13,
      "metadata": {
        "id": "FFLwj12FymeN"
      },
      "outputs": [],
      "source": [
        "cnn.add(tf.keras.layers.Dense(units=5, activation='softmax'))"
      ]
    },
    {
      "cell_type": "markdown",
      "metadata": {
        "id": "kHBcsTSSyrcl"
      },
      "source": [
        "# **Part 3 - Training the CNN**"
      ]
    },
    {
      "cell_type": "markdown",
      "metadata": {
        "id": "2BbMojc4ywzd"
      },
      "source": [
        "### Compiling the CNN"
      ]
    },
    {
      "cell_type": "code",
      "execution_count": 14,
      "metadata": {
        "id": "NBZ4ugEayxuf"
      },
      "outputs": [],
      "source": [
        "cnn.compile(optimizer = 'adam', loss = 'categorical_crossentropy', metrics = ['accuracy'])\n"
      ]
    },
    {
      "cell_type": "markdown",
      "metadata": {
        "id": "utSxqtJay38m"
      },
      "source": [
        "### Training the CNN on the Training set and evaluating it on the Test set"
      ]
    },
    {
      "cell_type": "code",
      "execution_count": 15,
      "metadata": {
        "colab": {
          "base_uri": "https://localhost:8080/"
        },
        "id": "ZKvF7gO33zqO",
        "outputId": "37e515d6-c6cb-4de0-e9a4-2f0fb94bf613"
      },
      "outputs": [
        {
          "output_type": "stream",
          "name": "stdout",
          "text": [
            "Epoch 1/25\n",
            "16/16 [==============================] - 15s 150ms/step - loss: 1.4726 - accuracy: 0.3860 - val_loss: 1.2221 - val_accuracy: 0.4726\n",
            "Epoch 2/25\n",
            "16/16 [==============================] - 2s 133ms/step - loss: 1.1907 - accuracy: 0.5220 - val_loss: 0.9750 - val_accuracy: 0.5871\n",
            "Epoch 3/25\n",
            "16/16 [==============================] - 2s 136ms/step - loss: 1.0310 - accuracy: 0.6040 - val_loss: 0.9636 - val_accuracy: 0.5943\n",
            "Epoch 4/25\n",
            "16/16 [==============================] - 2s 134ms/step - loss: 0.9918 - accuracy: 0.6200 - val_loss: 1.0752 - val_accuracy: 0.5680\n",
            "Epoch 5/25\n",
            "16/16 [==============================] - 2s 132ms/step - loss: 0.9178 - accuracy: 0.6300 - val_loss: 0.9917 - val_accuracy: 0.6181\n",
            "Epoch 6/25\n",
            "16/16 [==============================] - 3s 182ms/step - loss: 0.9505 - accuracy: 0.6320 - val_loss: 0.9585 - val_accuracy: 0.6158\n",
            "Epoch 7/25\n",
            "16/16 [==============================] - 2s 132ms/step - loss: 0.8376 - accuracy: 0.6820 - val_loss: 0.8624 - val_accuracy: 0.6754\n",
            "Epoch 8/25\n",
            "16/16 [==============================] - 2s 132ms/step - loss: 0.7959 - accuracy: 0.7020 - val_loss: 0.9181 - val_accuracy: 0.6492\n",
            "Epoch 9/25\n",
            "16/16 [==============================] - 2s 136ms/step - loss: 0.6877 - accuracy: 0.7680 - val_loss: 0.8723 - val_accuracy: 0.6706\n",
            "Epoch 10/25\n",
            "16/16 [==============================] - 3s 180ms/step - loss: 0.6649 - accuracy: 0.7420 - val_loss: 0.8954 - val_accuracy: 0.6635\n",
            "Epoch 11/25\n",
            "16/16 [==============================] - 2s 132ms/step - loss: 0.6422 - accuracy: 0.7620 - val_loss: 0.9861 - val_accuracy: 0.6468\n",
            "Epoch 12/25\n",
            "16/16 [==============================] - 2s 134ms/step - loss: 0.6323 - accuracy: 0.7660 - val_loss: 0.8304 - val_accuracy: 0.6826\n",
            "Epoch 13/25\n",
            "16/16 [==============================] - 2s 135ms/step - loss: 0.5534 - accuracy: 0.8140 - val_loss: 0.9892 - val_accuracy: 0.6683\n",
            "Epoch 14/25\n",
            "16/16 [==============================] - 3s 162ms/step - loss: 0.5161 - accuracy: 0.8120 - val_loss: 0.9665 - val_accuracy: 0.6706\n",
            "Epoch 15/25\n",
            "16/16 [==============================] - 3s 164ms/step - loss: 0.5015 - accuracy: 0.8060 - val_loss: 0.8983 - val_accuracy: 0.6802\n",
            "Epoch 16/25\n",
            "16/16 [==============================] - 2s 142ms/step - loss: 0.5044 - accuracy: 0.8280 - val_loss: 0.9911 - val_accuracy: 0.6468\n",
            "Epoch 17/25\n",
            "16/16 [==============================] - 2s 129ms/step - loss: 0.4986 - accuracy: 0.8120 - val_loss: 0.9638 - val_accuracy: 0.6563\n",
            "Epoch 18/25\n",
            "16/16 [==============================] - 3s 177ms/step - loss: 0.4071 - accuracy: 0.8760 - val_loss: 0.9283 - val_accuracy: 0.7088\n",
            "Epoch 19/25\n",
            "16/16 [==============================] - 2s 131ms/step - loss: 0.3706 - accuracy: 0.8560 - val_loss: 1.2513 - val_accuracy: 0.5967\n",
            "Epoch 20/25\n",
            "16/16 [==============================] - 2s 131ms/step - loss: 0.3676 - accuracy: 0.8680 - val_loss: 1.0246 - val_accuracy: 0.6563\n",
            "Epoch 21/25\n",
            "16/16 [==============================] - 2s 131ms/step - loss: 0.3432 - accuracy: 0.8880 - val_loss: 1.0486 - val_accuracy: 0.6563\n",
            "Epoch 22/25\n",
            "16/16 [==============================] - 2s 129ms/step - loss: 0.2859 - accuracy: 0.9080 - val_loss: 1.0609 - val_accuracy: 0.6754\n",
            "Epoch 23/25\n",
            "16/16 [==============================] - 3s 201ms/step - loss: 0.2809 - accuracy: 0.8880 - val_loss: 0.9431 - val_accuracy: 0.7088\n",
            "Epoch 24/25\n",
            "16/16 [==============================] - 2s 136ms/step - loss: 0.2215 - accuracy: 0.9320 - val_loss: 1.0550 - val_accuracy: 0.6683\n",
            "Epoch 25/25\n",
            "16/16 [==============================] - 2s 135ms/step - loss: 0.2022 - accuracy: 0.9280 - val_loss: 1.1111 - val_accuracy: 0.6826\n"
          ]
        },
        {
          "output_type": "execute_result",
          "data": {
            "text/plain": [
              "<keras.src.callbacks.History at 0x7f67f904fc10>"
            ]
          },
          "metadata": {},
          "execution_count": 15
        }
      ],
      "source": [
        "cnn.fit(x = training_set, validation_data = test_set, epochs = 25)"
      ]
    },
    {
      "cell_type": "code",
      "execution_count": 16,
      "metadata": {
        "colab": {
          "base_uri": "https://localhost:8080/"
        },
        "id": "NMwwIWduEx18",
        "outputId": "93fa2860-5919-4bb0-a718-1ff0be41f179"
      },
      "outputs": [
        {
          "output_type": "stream",
          "name": "stdout",
          "text": [
            "1/1 [==============================] - 0s 156ms/step\n"
          ]
        }
      ],
      "source": [
        "\n",
        "import numpy as np\n",
        "from keras.preprocessing import image\n",
        "\n",
        "test_image = tf.keras.utils.load_img('/content/flowers_multiclass_CNN/Predict_data/dandelion.jpg',\n",
        "                                     target_size = (64, 64))\n",
        "#test_image = tf.keras.utils.load_img(test_image)\n",
        "im=test_image\n",
        "test_image = np.expand_dims(test_image, axis = 0)\n",
        "\n",
        "result = cnn.predict(test_image)\n",
        "\n",
        "training_set.class_indices\n",
        "\n",
        "\n",
        "label=[\"daisy\", \"dandelion\", \"rose\", \"sunflower\", \"tulip\"]\n",
        "for i in label:\n",
        "    if result[0][label.index(i)]==1:\n",
        "         break\n",
        "\n",
        "\n",
        "\n",
        "prediction=i\n",
        "\n",
        "\n",
        "im.show()"
      ]
    },
    {
      "cell_type": "code",
      "execution_count": 17,
      "metadata": {
        "colab": {
          "base_uri": "https://localhost:8080/",
          "height": 98
        },
        "id": "y35gmHWmSfi_",
        "outputId": "1dc91f74-584c-41d7-ae80-ffc94adf6a39"
      },
      "outputs": [
        {
          "output_type": "stream",
          "name": "stdout",
          "text": [
            "dandelion\n"
          ]
        },
        {
          "output_type": "display_data",
          "data": {
            "text/plain": [
              "<PIL.Image.Image image mode=RGB size=64x64>"
            ],
            "image/png": "[encoded data removed]"
          },
          "metadata": {}
        }
      ],
      "source": [
        "print(prediction)\n",
        "\n",
        "display(im)"
      ]
    }
  ],
  "metadata": {
    "accelerator": "GPU",
    "colab": {
      "provenance": [],
      "include_colab_link": true
    },
    "kernelspec": {
      "display_name": "Python 3",
      "name": "python3"
    }
  },
  "nbformat": 4,
  "nbformat_minor": 0
}